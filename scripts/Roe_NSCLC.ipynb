{
 "cells": [
  {
   "cell_type": "code",
   "execution_count": 1,
   "id": "30575227-7b7d-42db-8bf1-a0d37abed3a2",
   "metadata": {
    "tags": []
   },
   "outputs": [],
   "source": [
    "suppressPackageStartupMessages(library(ComplexHeatmap))\n",
    "suppressPackageStartupMessages(library(ggpubr))\n",
    "suppressPackageStartupMessages(library(rstatix))\n",
    "suppressPackageStartupMessages(library(data.table))\n",
    "suppressPackageStartupMessages(library(plyr))\n",
    "suppressPackageStartupMessages(library(ggplot2))\n",
    "suppressPackageStartupMessages(library(circlize))"
   ]
  },
  {
   "cell_type": "code",
   "execution_count": 2,
   "id": "492020da-4d8b-49eb-a5db-ab3975e8f09d",
   "metadata": {},
   "outputs": [],
   "source": [
    "options(repr.plot.width=12, repr.plot.height=12,warn = -1) #warn = 1"
   ]
  },
  {
   "cell_type": "code",
   "execution_count": 3,
   "id": "acd0e4c6-deec-4830-bc89-5e635366e062",
   "metadata": {},
   "outputs": [],
   "source": [
    "do.tissueDist <- function(cellInfo.tb = cellInfo.tb,\n",
    "                          meta.cluster = cellInfo.tb$meta.cluster,\n",
    "                          loc = cellInfo.tb$loc,\n",
    "                          verbose=0){\n",
    "    ##input data \n",
    "    cellInfo.tb = data.table(cellInfo.tb)\n",
    "    cellInfo.tb$meta.cluster = as.character(meta.cluster)\n",
    "    \n",
    "    if(is.factor(loc)){\n",
    "        cellInfo.tb$loc = loc\n",
    "    }else{cellInfo.tb$loc = as.factor(loc)}\n",
    "    \n",
    "    loc.avai.vec <- levels(cellInfo.tb[[\"loc\"]])\n",
    "    count.dist <- unclass(cellInfo.tb[,table(meta.cluster,loc)])[,loc.avai.vec]\n",
    "    freq.dist <- sweep(count.dist,1,rowSums(count.dist),\"/\")\n",
    "    freq.dist.bin <- floor(freq.dist * 100 / 10)\n",
    "    count.dist.melt.ext.tb <- test.dist.table(count.dist)\n",
    "    p.dist.tb <- dcast(count.dist.melt.ext.tb,rid~cid,value.var='adj.p.value' # \"p.value\"\n",
    "                      )\n",
    "    OR.dist.tb <- dcast(count.dist.melt.ext.tb,rid~cid,value.var=\"OR\")\n",
    "    OR.dist.mtx <- as.matrix(OR.dist.tb[,-1])\n",
    "    rownames(OR.dist.mtx) <- OR.dist.tb[[1]]\n",
    "    \n",
    "  \n",
    "  if(verbose==1){\n",
    "      return(list(\"count.dist.melt.ext.tb\"=count.dist.melt.ext.tb,\n",
    "                  \"p.dist.tb\"=p.dist.tb,\n",
    "                  \"OR.dist.tb\"=OR.dist.tb,\n",
    "                  \"OR.dist.mtx\"=OR.dist.mtx))\n",
    "  }else{\n",
    "      return(OR.dist.mtx)\n",
    "  }\n",
    "}\n",
    "\n",
    "test.dist.table <- function(count.dist,min.rowSum=0){\n",
    "    count.dist <- count.dist[rowSums(count.dist)>=min.rowSum,,drop=F]\n",
    "    sum.col <- colSums(count.dist)\n",
    "    sum.row <- rowSums(count.dist)\n",
    "    count.dist.tb <- as.data.frame(count.dist)\n",
    "    setDT(count.dist.tb,keep.rownames=T)\n",
    "    count.dist.melt.tb <- melt(count.dist.tb,id.vars=\"rn\")\n",
    "    colnames(count.dist.melt.tb) <- c(\"rid\",\"cid\",\"count\")\n",
    "    count.dist.melt.ext.tb <- as.data.table(ldply(seq_len(nrow(count.dist.melt.tb)), function(i){\n",
    "        this.row <- count.dist.melt.tb$rid[i]\n",
    "        this.col <- count.dist.melt.tb$cid[i]\n",
    "        this.c <- count.dist.melt.tb$count[i]\n",
    "        other.col.c <- sum.col[this.col]-this.c\n",
    "        this.m <- matrix(c(this.c,\n",
    "                           sum.row[this.row]-this.c,\n",
    "                           other.col.c,\n",
    "                           sum(sum.col)-sum.row[this.row]-other.col.c),\n",
    "                         ncol=2)\n",
    "        res.test <- fisher.test(this.m)\n",
    "        data.frame(rid=this.row,\n",
    "                   cid=this.col,\n",
    "                   p.value=res.test$p.value,\n",
    "                   OR=res.test$estimate)\n",
    "    }))\n",
    "    count.dist.melt.ext.tb <- merge(count.dist.melt.tb,count.dist.melt.ext.tb,by=c(\"rid\",\"cid\"))\n",
    "    count.dist.melt.ext.tb[,adj.p.value:=p.adjust(p.value,\"BH\")]\n",
    "    return(count.dist.melt.ext.tb)\n",
    "}"
   ]
  },
  {
   "cell_type": "code",
   "execution_count": 4,
   "id": "d1bb7a96-7bbb-416c-9369-e26b81d0aa71",
   "metadata": {},
   "outputs": [],
   "source": [
    "ggHeat <- function(m, rescaling = 'none', clustering = 'none',\n",
    "                   labCol = T, labRow = T, border = F,\n",
    "                   heatscale = c(low = 'skyblue', mid = 'white', high = 'tomato'),\n",
    "                   legend.title = NULL, x.lab.size = 10,\n",
    "                   y.lab.size = 10,\n",
    "                   dot.highlight.cutoff = Inf) {\n",
    "  ## you can either scale by row or column not both!\n",
    "  ## if you wish to scale by both or use a differen scale method then simply supply a scale\n",
    "  ## function instead NB scale is a base funct\n",
    "\n",
    "  if(is.function(rescaling)) {\n",
    "    m = rescaling(m)\n",
    "  } else\n",
    "  {\n",
    "    if(rescaling == 'column')\n",
    "      m = scale(m, center = T)\n",
    "    if(rescaling == 'row')\n",
    "      m = t(scale(t(m), center = T))\n",
    "  }\n",
    "\n",
    "  ## I have supplied the default cluster and euclidean distance- and chose to cluster after scaling\n",
    "  ## if you want a different distance/cluster method-- or to cluster and then scale\n",
    "  ## then you can supply a custom function\n",
    "\n",
    "  if(is.function(clustering)) {\n",
    "    m = clustering(m)\n",
    "  } else {\n",
    "    if(clustering == 'row')\n",
    "      m = m[hclust(dist(m))$order, ]\n",
    "    if(clustering == 'column')\n",
    "      m = m[ ,hclust(dist(t(m)))$order]\n",
    "    if(clustering=='both')\n",
    "      m = m[hclust(dist(m))$order, hclust(dist(t(m)))$order]\n",
    "  }\n",
    "  col.labels <- colnames(m)\n",
    "  row.labels <- rownames(m)\n",
    "\n",
    "  colnames(m) <- paste0(col.labels, 1:ncol(m))\n",
    "  rownames(m) <- paste0(row.labels, 1:nrow(m))\n",
    "\n",
    "  ## this is just reshaping into a ggplot format matrix and making a ggplot layer\n",
    "  melt.m = reshape2::melt(m)\n",
    "  colnames(melt.m) <- c(\"Var1\", \"Var2\", \"value\")\n",
    "  g2 <- ggplot(data = melt.m) + geom_tile(aes(x = factor(Var2, levels = colnames(m)),\n",
    "                                              y = factor(Var1, levels = rownames(m)),\n",
    "                                              fill = value))\n",
    "  g2 <- g2 + scale_x_discrete(labels = col.labels) + scale_y_discrete(labels = row.labels)\n",
    "\n",
    "  ## get rid of grey panel background and gridlines\n",
    "  g2 = g2 + theme(panel.grid.minor = element_line(colour = NA), panel.grid.major = element_line(colour=NA),\n",
    "                  panel.background = element_rect(fill = NA, colour = NA), axis.text.x = element_text(angle = 90, hjust = 1, vjust = 0.5, size = x.lab.size),\n",
    "                  axis.ticks = element_blank(), axis.text.y = element_text(size = y.lab.size, hjust = 1, vjust = 0.5),\n",
    "                  axis.title = element_blank())\n",
    "\n",
    "  ## finally add the fill colour ramp of your choice (default is blue to red)-- and return\n",
    "  g2 <- g2 + scale_fill_gradient2(low = heatscale[1], mid = heatscale[2], high = heatscale[3],midpoint = 1,\n",
    "                                  guide = guide_colorbar(title = legend.title))\n",
    "\n",
    "  ## Add dots to highlight certain cells\n",
    "  dot.melt.m <- subset(melt.m, value > dot.highlight.cutoff)\n",
    "  if (nrow(dot.melt.m) > 0) {\n",
    "    g2 <- g2 + geom_point(aes(x = Var2, y = Var1), data = dot.melt.m)\n",
    "  }\n",
    "\n",
    "  ## Remove axis labels\n",
    "  if(labCol == F) g2 = g2 + theme(axis.text.x = element_blank())\n",
    "  if(labRow == F) g2 = g2 + theme(axis.text.y = element_blank())\n",
    "\n",
    "  return(g2)\n",
    "}"
   ]
  },
  {
   "cell_type": "code",
   "execution_count": 5,
   "id": "1b4f3f26-cc87-4fdf-8425-97795fb2a29f",
   "metadata": {},
   "outputs": [],
   "source": [
    "`%ni%` <- Negate(`%in%`) "
   ]
  },
  {
   "cell_type": "markdown",
   "id": "4239d0c4-f12b-48aa-9017-f804048b165a",
   "metadata": {},
   "source": [
    "# Load data"
   ]
  },
  {
   "cell_type": "code",
   "execution_count": 6,
   "id": "9564c7ff-61e1-4ba9-bf6d-01c7e453cfd3",
   "metadata": {},
   "outputs": [],
   "source": [
    "meta.tb <- read.csv('data/NSCLC_metadata.csv')\n",
    "setDT(meta.tb)"
   ]
  },
  {
   "cell_type": "code",
   "execution_count": 7,
   "id": "7bd94fd9-13f8-4858-8ade-03e002282e36",
   "metadata": {},
   "outputs": [
    {
     "data": {
      "text/html": [
       "<table class=\"dataframe\">\n",
       "<caption>A data.table: 6 × 37</caption>\n",
       "<thead>\n",
       "\t<tr><th scope=col>cell_ID</th><th scope=col>fov</th><th scope=col>Area</th><th scope=col>AspectRatio</th><th scope=col>Width</th><th scope=col>Height</th><th scope=col>Mean.CD298</th><th scope=col>Max.CD298</th><th scope=col>Mean.G</th><th scope=col>Max.G</th><th scope=col>⋯</th><th scope=col>log10totalcounts</th><th scope=col>background</th><th scope=col>remove_flagged_cells</th><th scope=col>patient</th><th scope=col>cell_type</th><th scope=col>niche</th><th scope=col>prop_tumor_in_100_neighbors</th><th scope=col>leiden</th><th scope=col>cell_comm</th><th scope=col>celltype</th></tr>\n",
       "\t<tr><th scope=col>&lt;chr&gt;</th><th scope=col>&lt;int&gt;</th><th scope=col>&lt;int&gt;</th><th scope=col>&lt;dbl&gt;</th><th scope=col>&lt;int&gt;</th><th scope=col>&lt;int&gt;</th><th scope=col>&lt;int&gt;</th><th scope=col>&lt;int&gt;</th><th scope=col>&lt;int&gt;</th><th scope=col>&lt;int&gt;</th><th scope=col>⋯</th><th scope=col>&lt;dbl&gt;</th><th scope=col>&lt;dbl&gt;</th><th scope=col>&lt;chr&gt;</th><th scope=col>&lt;chr&gt;</th><th scope=col>&lt;chr&gt;</th><th scope=col>&lt;chr&gt;</th><th scope=col>&lt;dbl&gt;</th><th scope=col>&lt;int&gt;</th><th scope=col>&lt;chr&gt;</th><th scope=col>&lt;chr&gt;</th></tr>\n",
       "</thead>\n",
       "<tbody>\n",
       "\t<tr><td>c_3_1_3 </td><td>1</td><td>2666</td><td>1.40</td><td>70</td><td>50</td><td>1770</td><td> 3611</td><td>2213</td><td>14635</td><td>⋯</td><td>1.602060</td><td>0.008619492</td><td>False</td><td>Lung5</td><td>plasmablast</td><td>plasmablast-enriched stroma</td><td>0.11</td><td>1</td><td>CC2</td><td>plasmablast</td></tr>\n",
       "\t<tr><td>c_3_1_5 </td><td>1</td><td>2569</td><td>1.13</td><td>61</td><td>54</td><td>3913</td><td> 9346</td><td>1005</td><td> 5156</td><td>⋯</td><td>1.602060</td><td>0.008619492</td><td>False</td><td>Lung5</td><td>macrophage </td><td>plasmablast-enriched stroma</td><td>0.00</td><td>1</td><td>CC2</td><td>macrophage </td></tr>\n",
       "\t<tr><td>c_3_1_6 </td><td>1</td><td>2678</td><td>1.20</td><td>67</td><td>56</td><td>4786</td><td>11066</td><td> 666</td><td> 5069</td><td>⋯</td><td>2.008600</td><td>0.021979705</td><td>False</td><td>Lung5</td><td>B-cell     </td><td>stroma                     </td><td>0.00</td><td>1</td><td>CC2</td><td>B-cell     </td></tr>\n",
       "\t<tr><td>c_3_1_7 </td><td>1</td><td>3301</td><td>1.39</td><td>75</td><td>54</td><td>1747</td><td> 7005</td><td> 646</td><td> 3558</td><td>⋯</td><td>1.690196</td><td>0.010558878</td><td>False</td><td>Lung5</td><td>neutrophil </td><td>stroma                     </td><td>0.00</td><td>1</td><td>CC2</td><td>neutrophil </td></tr>\n",
       "\t<tr><td>c_3_1_8 </td><td>1</td><td>2087</td><td>1.02</td><td>52</td><td>51</td><td>3134</td><td> 6292</td><td> 581</td><td> 1288</td><td>⋯</td><td>1.778151</td><td>0.012929238</td><td>False</td><td>Lung5</td><td>endothelial</td><td>lymphoid structure         </td><td>0.01</td><td>0</td><td>CC1</td><td>endothelial</td></tr>\n",
       "\t<tr><td>c_3_1_11</td><td>1</td><td>3030</td><td>1.82</td><td>89</td><td>49</td><td>3535</td><td> 6186</td><td> 607</td><td> 2447</td><td>⋯</td><td>2.021189</td><td>0.022626167</td><td>False</td><td>Lung5</td><td>plasmablast</td><td>lymphoid structure         </td><td>0.01</td><td>2</td><td>CC3</td><td>plasmablast</td></tr>\n",
       "</tbody>\n",
       "</table>\n"
      ],
      "text/latex": [
       "A data.table: 6 × 37\n",
       "\\begin{tabular}{lllllllllllllllllllll}\n",
       " cell\\_ID & fov & Area & AspectRatio & Width & Height & Mean.CD298 & Max.CD298 & Mean.G & Max.G & ⋯ & log10totalcounts & background & remove\\_flagged\\_cells & patient & cell\\_type & niche & prop\\_tumor\\_in\\_100\\_neighbors & leiden & cell\\_comm & celltype\\\\\n",
       " <chr> & <int> & <int> & <dbl> & <int> & <int> & <int> & <int> & <int> & <int> & ⋯ & <dbl> & <dbl> & <chr> & <chr> & <chr> & <chr> & <dbl> & <int> & <chr> & <chr>\\\\\n",
       "\\hline\n",
       "\t c\\_3\\_1\\_3  & 1 & 2666 & 1.40 & 70 & 50 & 1770 &  3611 & 2213 & 14635 & ⋯ & 1.602060 & 0.008619492 & False & Lung5 & plasmablast & plasmablast-enriched stroma & 0.11 & 1 & CC2 & plasmablast\\\\\n",
       "\t c\\_3\\_1\\_5  & 1 & 2569 & 1.13 & 61 & 54 & 3913 &  9346 & 1005 &  5156 & ⋯ & 1.602060 & 0.008619492 & False & Lung5 & macrophage  & plasmablast-enriched stroma & 0.00 & 1 & CC2 & macrophage \\\\\n",
       "\t c\\_3\\_1\\_6  & 1 & 2678 & 1.20 & 67 & 56 & 4786 & 11066 &  666 &  5069 & ⋯ & 2.008600 & 0.021979705 & False & Lung5 & B-cell      & stroma                      & 0.00 & 1 & CC2 & B-cell     \\\\\n",
       "\t c\\_3\\_1\\_7  & 1 & 3301 & 1.39 & 75 & 54 & 1747 &  7005 &  646 &  3558 & ⋯ & 1.690196 & 0.010558878 & False & Lung5 & neutrophil  & stroma                      & 0.00 & 1 & CC2 & neutrophil \\\\\n",
       "\t c\\_3\\_1\\_8  & 1 & 2087 & 1.02 & 52 & 51 & 3134 &  6292 &  581 &  1288 & ⋯ & 1.778151 & 0.012929238 & False & Lung5 & endothelial & lymphoid structure          & 0.01 & 0 & CC1 & endothelial\\\\\n",
       "\t c\\_3\\_1\\_11 & 1 & 3030 & 1.82 & 89 & 49 & 3535 &  6186 &  607 &  2447 & ⋯ & 2.021189 & 0.022626167 & False & Lung5 & plasmablast & lymphoid structure          & 0.01 & 2 & CC3 & plasmablast\\\\\n",
       "\\end{tabular}\n"
      ],
      "text/markdown": [
       "\n",
       "A data.table: 6 × 37\n",
       "\n",
       "| cell_ID &lt;chr&gt; | fov &lt;int&gt; | Area &lt;int&gt; | AspectRatio &lt;dbl&gt; | Width &lt;int&gt; | Height &lt;int&gt; | Mean.CD298 &lt;int&gt; | Max.CD298 &lt;int&gt; | Mean.G &lt;int&gt; | Max.G &lt;int&gt; | ⋯ ⋯ | log10totalcounts &lt;dbl&gt; | background &lt;dbl&gt; | remove_flagged_cells &lt;chr&gt; | patient &lt;chr&gt; | cell_type &lt;chr&gt; | niche &lt;chr&gt; | prop_tumor_in_100_neighbors &lt;dbl&gt; | leiden &lt;int&gt; | cell_comm &lt;chr&gt; | celltype &lt;chr&gt; |\n",
       "|---|---|---|---|---|---|---|---|---|---|---|---|---|---|---|---|---|---|---|---|---|\n",
       "| c_3_1_3  | 1 | 2666 | 1.40 | 70 | 50 | 1770 |  3611 | 2213 | 14635 | ⋯ | 1.602060 | 0.008619492 | False | Lung5 | plasmablast | plasmablast-enriched stroma | 0.11 | 1 | CC2 | plasmablast |\n",
       "| c_3_1_5  | 1 | 2569 | 1.13 | 61 | 54 | 3913 |  9346 | 1005 |  5156 | ⋯ | 1.602060 | 0.008619492 | False | Lung5 | macrophage  | plasmablast-enriched stroma | 0.00 | 1 | CC2 | macrophage  |\n",
       "| c_3_1_6  | 1 | 2678 | 1.20 | 67 | 56 | 4786 | 11066 |  666 |  5069 | ⋯ | 2.008600 | 0.021979705 | False | Lung5 | B-cell      | stroma                      | 0.00 | 1 | CC2 | B-cell      |\n",
       "| c_3_1_7  | 1 | 3301 | 1.39 | 75 | 54 | 1747 |  7005 |  646 |  3558 | ⋯ | 1.690196 | 0.010558878 | False | Lung5 | neutrophil  | stroma                      | 0.00 | 1 | CC2 | neutrophil  |\n",
       "| c_3_1_8  | 1 | 2087 | 1.02 | 52 | 51 | 3134 |  6292 |  581 |  1288 | ⋯ | 1.778151 | 0.012929238 | False | Lung5 | endothelial | lymphoid structure          | 0.01 | 0 | CC1 | endothelial |\n",
       "| c_3_1_11 | 1 | 3030 | 1.82 | 89 | 49 | 3535 |  6186 |  607 |  2447 | ⋯ | 2.021189 | 0.022626167 | False | Lung5 | plasmablast | lymphoid structure          | 0.01 | 2 | CC3 | plasmablast |\n",
       "\n"
      ],
      "text/plain": [
       "  cell_ID  fov Area AspectRatio Width Height Mean.CD298 Max.CD298 Mean.G Max.G\n",
       "1 c_3_1_3  1   2666 1.40        70    50     1770        3611     2213   14635\n",
       "2 c_3_1_5  1   2569 1.13        61    54     3913        9346     1005    5156\n",
       "3 c_3_1_6  1   2678 1.20        67    56     4786       11066      666    5069\n",
       "4 c_3_1_7  1   3301 1.39        75    54     1747        7005      646    3558\n",
       "5 c_3_1_8  1   2087 1.02        52    51     3134        6292      581    1288\n",
       "6 c_3_1_11 1   3030 1.82        89    49     3535        6186      607    2447\n",
       "  ⋯ log10totalcounts background  remove_flagged_cells patient cell_type  \n",
       "1 ⋯ 1.602060         0.008619492 False                Lung5   plasmablast\n",
       "2 ⋯ 1.602060         0.008619492 False                Lung5   macrophage \n",
       "3 ⋯ 2.008600         0.021979705 False                Lung5   B-cell     \n",
       "4 ⋯ 1.690196         0.010558878 False                Lung5   neutrophil \n",
       "5 ⋯ 1.778151         0.012929238 False                Lung5   endothelial\n",
       "6 ⋯ 2.021189         0.022626167 False                Lung5   plasmablast\n",
       "  niche                       prop_tumor_in_100_neighbors leiden cell_comm\n",
       "1 plasmablast-enriched stroma 0.11                        1      CC2      \n",
       "2 plasmablast-enriched stroma 0.00                        1      CC2      \n",
       "3 stroma                      0.00                        1      CC2      \n",
       "4 stroma                      0.00                        1      CC2      \n",
       "5 lymphoid structure          0.01                        0      CC1      \n",
       "6 lymphoid structure          0.01                        2      CC3      \n",
       "  celltype   \n",
       "1 plasmablast\n",
       "2 macrophage \n",
       "3 B-cell     \n",
       "4 neutrophil \n",
       "5 endothelial\n",
       "6 plasmablast"
      ]
     },
     "metadata": {},
     "output_type": "display_data"
    }
   ],
   "source": [
    "head(meta.tb)"
   ]
  },
  {
   "cell_type": "code",
   "execution_count": 8,
   "id": "29018c58-a96c-4bcb-ac19-b2ce03bf699c",
   "metadata": {},
   "outputs": [],
   "source": [
    "cellInfo.tb=meta.tb\n",
    "OR.list <- do.tissueDist(cellInfo.tb=cellInfo.tb,\n",
    "                           meta.cluster = cellInfo.tb$celltype,\n",
    "                           loc = cellInfo.tb$cell_comm,\n",
    "                           verbose=1)"
   ]
  },
  {
   "cell_type": "code",
   "execution_count": 9,
   "id": "a46c8103-9a51-4f0a-bf88-2da072f05cc9",
   "metadata": {},
   "outputs": [],
   "source": [
    "df_OR <- OR.list$OR.dist.mtx"
   ]
  },
  {
   "cell_type": "code",
   "execution_count": 10,
   "id": "3759d161-87f2-4e9f-8c2b-80777be123b0",
   "metadata": {},
   "outputs": [],
   "source": [
    "df_P <- OR.list$p.dist.tb"
   ]
  },
  {
   "cell_type": "code",
   "execution_count": 11,
   "id": "2a47f0d5-11d1-4dd4-8d6f-9b108ad6e9d6",
   "metadata": {},
   "outputs": [],
   "source": [
    "Cell_commColors=c('CC1'='#1f77b4','CC2'='#ff7f0e','CC3'='#279e68','CC4'='#d62728','CC5'='#aa40fc',\n",
    "                  'CC6'='#8c564b')# 'CC7'='#e377c2','CC8'='#b5bd61','CC9'='#17becf'"
   ]
  },
  {
   "cell_type": "code",
   "execution_count": 12,
   "id": "4db38cce-47ea-4bb7-af13-9c9b2515afd2",
   "metadata": {},
   "outputs": [
    {
     "data": {
      "text/html": [
       "<table class=\"dataframe\">\n",
       "<caption>A matrix: 6 × 6 of type dbl</caption>\n",
       "<thead>\n",
       "\t<tr><th></th><th scope=col>CC1</th><th scope=col>CC2</th><th scope=col>CC3</th><th scope=col>CC4</th><th scope=col>CC5</th><th scope=col>CC6</th></tr>\n",
       "</thead>\n",
       "<tbody>\n",
       "\t<tr><th scope=row>B-cell</th><td>0.1819007</td><td>1.0146062</td><td>5.0000000</td><td>0.5598031</td><td>0.006679086</td><td>0.06094054</td></tr>\n",
       "\t<tr><th scope=row>NK</th><td>2.7261037</td><td>0.8614833</td><td>0.5440088</td><td>1.4957094</td><td>0.095715982</td><td>0.59165797</td></tr>\n",
       "\t<tr><th scope=row>T CD4 memory</th><td>0.2859369</td><td>1.9897860</td><td>2.0310935</td><td>1.9093906</td><td>0.020287422</td><td>0.36288859</td></tr>\n",
       "\t<tr><th scope=row>T CD4 naive</th><td>0.3909236</td><td>1.2840420</td><td>5.0000000</td><td>0.9138101</td><td>0.011167536</td><td>0.11100384</td></tr>\n",
       "\t<tr><th scope=row>T CD8 memory</th><td>0.6696231</td><td>1.5967984</td><td>1.8071642</td><td>1.4439102</td><td>0.211860642</td><td>0.39179714</td></tr>\n",
       "\t<tr><th scope=row>T CD8 naive</th><td>0.3459832</td><td>1.2610902</td><td>2.8260108</td><td>2.2563359</td><td>0.025378070</td><td>0.22936461</td></tr>\n",
       "</tbody>\n",
       "</table>\n"
      ],
      "text/latex": [
       "A matrix: 6 × 6 of type dbl\n",
       "\\begin{tabular}{r|llllll}\n",
       "  & CC1 & CC2 & CC3 & CC4 & CC5 & CC6\\\\\n",
       "\\hline\n",
       "\tB-cell & 0.1819007 & 1.0146062 & 5.0000000 & 0.5598031 & 0.006679086 & 0.06094054\\\\\n",
       "\tNK & 2.7261037 & 0.8614833 & 0.5440088 & 1.4957094 & 0.095715982 & 0.59165797\\\\\n",
       "\tT CD4 memory & 0.2859369 & 1.9897860 & 2.0310935 & 1.9093906 & 0.020287422 & 0.36288859\\\\\n",
       "\tT CD4 naive & 0.3909236 & 1.2840420 & 5.0000000 & 0.9138101 & 0.011167536 & 0.11100384\\\\\n",
       "\tT CD8 memory & 0.6696231 & 1.5967984 & 1.8071642 & 1.4439102 & 0.211860642 & 0.39179714\\\\\n",
       "\tT CD8 naive & 0.3459832 & 1.2610902 & 2.8260108 & 2.2563359 & 0.025378070 & 0.22936461\\\\\n",
       "\\end{tabular}\n"
      ],
      "text/markdown": [
       "\n",
       "A matrix: 6 × 6 of type dbl\n",
       "\n",
       "| <!--/--> | CC1 | CC2 | CC3 | CC4 | CC5 | CC6 |\n",
       "|---|---|---|---|---|---|---|\n",
       "| B-cell | 0.1819007 | 1.0146062 | 5.0000000 | 0.5598031 | 0.006679086 | 0.06094054 |\n",
       "| NK | 2.7261037 | 0.8614833 | 0.5440088 | 1.4957094 | 0.095715982 | 0.59165797 |\n",
       "| T CD4 memory | 0.2859369 | 1.9897860 | 2.0310935 | 1.9093906 | 0.020287422 | 0.36288859 |\n",
       "| T CD4 naive | 0.3909236 | 1.2840420 | 5.0000000 | 0.9138101 | 0.011167536 | 0.11100384 |\n",
       "| T CD8 memory | 0.6696231 | 1.5967984 | 1.8071642 | 1.4439102 | 0.211860642 | 0.39179714 |\n",
       "| T CD8 naive | 0.3459832 | 1.2610902 | 2.8260108 | 2.2563359 | 0.025378070 | 0.22936461 |\n",
       "\n"
      ],
      "text/plain": [
       "             CC1       CC2       CC3       CC4       CC5         CC6       \n",
       "B-cell       0.1819007 1.0146062 5.0000000 0.5598031 0.006679086 0.06094054\n",
       "NK           2.7261037 0.8614833 0.5440088 1.4957094 0.095715982 0.59165797\n",
       "T CD4 memory 0.2859369 1.9897860 2.0310935 1.9093906 0.020287422 0.36288859\n",
       "T CD4 naive  0.3909236 1.2840420 5.0000000 0.9138101 0.011167536 0.11100384\n",
       "T CD8 memory 0.6696231 1.5967984 1.8071642 1.4439102 0.211860642 0.39179714\n",
       "T CD8 naive  0.3459832 1.2610902 2.8260108 2.2563359 0.025378070 0.22936461"
      ]
     },
     "metadata": {},
     "output_type": "display_data"
    }
   ],
   "source": [
    "df = df_OR\n",
    "df = df[,c('CC1','CC2','CC3','CC4','CC5','CC6')]\n",
    "\n",
    "# 构建列注释信息\n",
    "annotation_col = data.frame(\n",
    "    Cell_comm = c('CC1','CC2','CC3','CC4','CC5','CC6')\n",
    ")\n",
    "rownames(annotation_col) = c('CC1','CC2','CC3','CC4','CC5','CC6')\n",
    "\n",
    "ann_colors = list(\n",
    "    Cell_comm = c('CC1'='#1f77b4','CC2'='#ff7f0e','CC3'='#279e68','CC4'='#d62728','CC5'='#aa40fc','CC6'='#8c564b')\n",
    ")\n",
    "\n",
    "\n",
    "top_anno = HeatmapAnnotation(Cell_comm = c('CC1','CC2','CC3','CC4','CC5','CC6'), \n",
    "                             col = list(Cell_comm=Cell_commColors))\n",
    "\n",
    "tissue_info<-c('CC1','CC2','CC3','CC4','CC5','CC6')\n",
    "names(tissue_info) <- c('CC1','CC2','CC3','CC4','CC5','CC6')\n",
    "\n",
    "df[df>5] <- 5\n",
    "head(df)"
   ]
  },
  {
   "cell_type": "code",
   "execution_count": 13,
   "id": "36104060-1061-474c-a271-214904d3feb0",
   "metadata": {},
   "outputs": [],
   "source": [
    "#热图格子大小设置；\n",
    "cellwidth = 0.6\n",
    "cellheight = 0.6\n",
    "cn = dim(df)[2]\n",
    "rn = dim(df)[1]\n",
    "w=cellwidth*cn\n",
    "h=cellheight*rn"
   ]
  },
  {
   "cell_type": "code",
   "execution_count": 14,
   "id": "1836ef40-e9e5-46b8-8b92-36e25bfc254d",
   "metadata": {},
   "outputs": [],
   "source": [
    "col_fun1 = colorRamp2(c(0, 1, 3, 5), c(\"#0f86a9\", \"white\", \"#FC8452\",\"#ff5b17\")) "
   ]
  },
  {
   "cell_type": "code",
   "execution_count": 15,
   "id": "33b69f6d-2c2f-4ef6-93e0-52e1a71ace0b",
   "metadata": {},
   "outputs": [],
   "source": [
    "df_p <- as.matrix(df_P[,-1])\n",
    "rownames(df_p) <- df_P$rid"
   ]
  },
  {
   "cell_type": "code",
   "execution_count": 16,
   "id": "bb710dac-b266-4b8b-b33e-df5ae6d7ca95",
   "metadata": {},
   "outputs": [
    {
     "data": {
      "image/png": "[encoded data removed]",
      "text/plain": [
       "plot without title"
      ]
     },
     "metadata": {
      "image/png": {
       "height": 720,
       "width": 720
      }
     },
     "output_type": "display_data"
    }
   ],
   "source": [
    "Heatmap(df,name =\"r\", col = col_fun1,\n",
    "        show_column_names = FALSE,\n",
    "        show_row_names = TRUE,\n",
    "        top_annotation = top_anno,\n",
    "        #格子大小设置；\n",
    "        width = unit(w, \"cm\"),\n",
    "        height = unit(h, \"cm\"),\n",
    "        rect_gp = gpar(col = \"white\", lwd = 1.5),\n",
    "        #聚类树样式设置；\n",
    "        cluster_rows = TRUE,\n",
    "        cluster_columns = TRUE,\n",
    "        #行列标签文字样式设置；\n",
    "        row_title = NULL,column_title = NULL,\n",
    "        column_names_gp = gpar(fontsize = 12),\n",
    "        row_names_gp = gpar(fontsize = 12),\n",
    "        #图例样式设置；\n",
    "        heatmap_legend_param = list(legend_height = unit(3, \"cm\"),\n",
    "                                    grid_width = unit(0.4, \"cm\"),\n",
    "                                    labels_gp = gpar(col = \"gray20\",fontsize = 8),\n",
    "                                    title = \"Ro/e\", at = c(0, 1, 3, 5),labels = c(\"0\", \"1\",'3',\"Max\")),\n",
    "        #使用加减号表示正负相关；\n",
    "        cell_fun = function(j, i, x, y, width, height, fill) {\n",
    "          if(df_p[i, j] > 0.01){\n",
    "            grid.text(\"\", x, y,\n",
    "                   gp = gpar(fontsize = 6,\n",
    "                             fontface = \"plain\",\n",
    "                             col=\"gray10\"))\n",
    "          }else if(df_p[i, j] > 0.001 & df_p[i, j] <= 0.01){\n",
    "            grid.text(\"*\", x, y, vjust = 0.4,\n",
    "                   gp = gpar(fontsize = 6,\n",
    "                             fontface = \"plain\",\n",
    "                             col=\"gray10\"))\n",
    "          }else if(df_p[i, j] > 0.0001 & df_p[i, j] <= 0.001){\n",
    "            grid.text(\"**\", x, y, vjust = 0.4,\n",
    "                   gp = gpar(fontsize = 6,\n",
    "                             fontface = \"plain\",\n",
    "                             col=\"gray10\"))\n",
    "          }else if(df_p[i, j] > 0.00001 & df_p[i, j] <= 0.0001){\n",
    "            grid.text(\"***\", x, y, vjust = 0.4,\n",
    "                   gp = gpar(fontsize = 6,\n",
    "                             fontface = \"plain\",\n",
    "                             col=\"gray10\"))\n",
    "          }else if(df_p[i, j] <= 0.00001){\n",
    "            grid.text(\"****\", x, y, vjust = 0.4,\n",
    "                   gp = gpar(fontsize = 6,\n",
    "                             fontface = \"plain\",\n",
    "                             col=\"gray10\"))\n",
    "          }\n",
    "        }\n",
    ")"
   ]
  },
  {
   "cell_type": "code",
   "execution_count": null,
   "id": "928341bb-4ed3-4765-a1b5-947a86a1a870",
   "metadata": {},
   "outputs": [],
   "source": []
  },
  {
   "cell_type": "code",
   "execution_count": null,
   "id": "3b7c287f-ab1d-402b-bae4-20440cf3a50b",
   "metadata": {},
   "outputs": [],
   "source": []
  }
 ],
 "metadata": {
  "kernelspec": {
   "display_name": "R",
   "language": "R",
   "name": "ir"
  },
  "language_info": {
   "codemirror_mode": "r",
   "file_extension": ".r",
   "mimetype": "text/x-r-source",
   "name": "R",
   "pygments_lexer": "r",
   "version": "4.2.0"
  }
 },
 "nbformat": 4,
 "nbformat_minor": 5
}
