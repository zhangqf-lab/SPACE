{
 "cells": [
  {
   "cell_type": "code",
   "execution_count": 1,
   "id": "c302908a-67fa-4dcf-9107-3da26e533739",
   "metadata": {},
   "outputs": [
    {
     "name": "stderr",
     "output_type": "stream",
     "text": [
      "/home/liyuzhe/anaconda3/envs/scape/lib/python3.10/site-packages/geopandas/_compat.py:124: UserWarning: The Shapely GEOS version (3.11.1-CAPI-1.17.1) is incompatible with the GEOS version PyGEOS was compiled with (3.10.4-CAPI-1.16.2). Conversions between both will be slow.\n",
      "  warnings.warn(\n",
      "/home/liyuzhe/anaconda3/envs/scape/lib/python3.10/site-packages/spatialdata/__init__.py:9: UserWarning: Geopandas was set to use PyGEOS, changing to shapely 2.0 with:\n",
      "\n",
      "\tgeopandas.options.use_pygeos = True\n",
      "\n",
      "If you intended to use PyGEOS, set the option to False.\n",
      "  _check_geopandas_using_shapely()\n"
     ]
    }
   ],
   "source": [
    "import pandas as pd\n",
    "import numpy as np\n",
    "import scanpy as sc\n",
    "import squidpy as sq\n",
    "import space as sp\n",
    "import seaborn as sns\n",
    "import matplotlib.pyplot as plt\n",
    "import matplotlib.colors as clr\n",
    "\n",
    "from matplotlib.colors import LinearSegmentedColormap\n",
    "from matplotlib import cm\n",
    "from matplotlib import colors\n",
    "from termcolor import colored"
   ]
  },
  {
   "cell_type": "code",
   "execution_count": 2,
   "id": "1414f0b2-3928-4ceb-be4f-989f521e8a3a",
   "metadata": {},
   "outputs": [],
   "source": [
    "import scipy.stats as stats\n",
    "from sklearn.metrics.pairwise import pairwise_distances\n",
    "from sklearn.metrics.pairwise import cosine_similarity"
   ]
  },
  {
   "cell_type": "code",
   "execution_count": 3,
   "id": "4c14cf55-1e6f-4733-8dc5-8b223cc9ec93",
   "metadata": {},
   "outputs": [
    {
     "name": "stdout",
     "output_type": "stream",
     "text": [
      "scanpy==1.9.6 anndata==0.10.3 umap==0.5.4 numpy==1.23.4 scipy==1.11.3 pandas==1.5.3 scikit-learn==1.3.1 statsmodels==0.14.0 igraph==0.10.6 louvain==0.8.1 pynndescent==0.5.10\n"
     ]
    }
   ],
   "source": [
    "plt.rcParams['axes.unicode_minus']=False\n",
    "plt.rc('font', family='Helvetica')\n",
    "plt.rcParams['pdf.fonttype'] = 42\n",
    "sc.settings.verbosity = 3             # verbosity: errors (0), warnings (1), info (2), hints (3)\n",
    "sc.logging.print_header()\n",
    "sc.set_figure_params(dpi=120,facecolor='w',frameon=True,figsize=(4,4)) \n",
    "%config InlineBackend.figure_format='retina'\n",
    "%matplotlib inline"
   ]
  },
  {
   "cell_type": "code",
   "execution_count": 4,
   "id": "7f91b9b3-74ea-46bf-8195-cb63aff42030",
   "metadata": {},
   "outputs": [],
   "source": [
    "featurePlotCols=[\"lightgrey\",\"whitesmoke\",\"#ffffcc\",\"#ffeda0\",\"#fed976\",\"#feb24c\",\"#fd8d3c\",\"#fc4e2a\",\"#e31a1c\",\"#bd0026\",\"#800026\",\"#800026\"]\n",
    "mymap2 = colors.LinearSegmentedColormap.from_list('my_colormap',featurePlotCols,N=512)"
   ]
  },
  {
   "cell_type": "code",
   "execution_count": 5,
   "id": "fe8a90b5-8e7d-454a-a704-c4db734c95b6",
   "metadata": {},
   "outputs": [
    {
     "data": {
      "text/plain": [
       "'0.6.9'"
      ]
     },
     "execution_count": 5,
     "metadata": {},
     "output_type": "execute_result"
    }
   ],
   "source": [
    "sp.__version__"
   ]
  },
  {
   "cell_type": "markdown",
   "id": "0514913b-2021-4f3f-a231-d7d6f7fa9e7f",
   "metadata": {},
   "source": [
    "# Cosine similarity "
   ]
  },
  {
   "cell_type": "code",
   "execution_count": 6,
   "id": "93c0ffa0-73fd-4871-96f2-33dd39718989",
   "metadata": {},
   "outputs": [
    {
     "name": "stderr",
     "output_type": "stream",
     "text": [
      "/home/liyuzhe/anaconda3/envs/scape/lib/python3.10/site-packages/anndata/__init__.py:51: FutureWarning: `anndata.read` is deprecated, use `anndata.read_h5ad` instead. `ad.read` will be removed in mid 2024.\n",
      "  warnings.warn(\n"
     ]
    },
    {
     "data": {
      "text/plain": [
       "AnnData object with n_obs × n_vars = 97809 × 960\n",
       "    obs: 'fov', 'Area', 'AspectRatio', 'Width', 'Height', 'Mean.CD298', 'Max.CD298', 'Mean.G', 'Max.G', 'Mean.Y', 'Max.Y', 'Mean.R', 'Max.R', 'Mean.DAPI', 'Max.DAPI', 'dualfiles', 'Slide_name', 'tissue', 'Run_name', 'ISH.concentration', 'Dash', 'slide_ID_numeric', 'Run_Tissue_name', 'Panel', 'Diversity', 'totalcounts', 'log10totalcounts', 'background', 'remove_flagged_cells', 'patient', 'cell_type', 'niche', 'prop_tumor_in_100_neighbors', 'leiden', 'cell_comm', 'celltype'\n",
       "    uns: 'SPACE', 'cell_comm_colors', 'cell_type_colors', 'celltype_colors', 'leiden', 'leiden_colors', 'log1p', 'niche_colors', 'umap'\n",
       "    obsm: 'X_umap', 'latent', 'spatial', 'spatial_viz'\n",
       "    layers: 'counts'\n",
       "    obsp: 'SPACE_connectivities', 'SPACE_distances'"
      ]
     },
     "execution_count": 6,
     "metadata": {},
     "output_type": "execute_result"
    }
   ],
   "source": [
    "adata=sc.read('/home/liyuzhe/Notebook/SPACE_rebuttal/NSCLC/NSCLC_cc_adata.h5ad')\n",
    "adata"
   ]
  },
  {
   "cell_type": "code",
   "execution_count": 7,
   "id": "d9358fc7-541f-4bb6-af21-edcfff3c00e7",
   "metadata": {},
   "outputs": [
    {
     "data": {
      "text/plain": [
       "18"
      ]
     },
     "execution_count": 7,
     "metadata": {},
     "output_type": "execute_result"
    }
   ],
   "source": [
    "len(adata.obs.celltype.value_counts())"
   ]
  },
  {
   "cell_type": "code",
   "execution_count": 7,
   "id": "7a23a708-97ff-4957-92e2-803bac486b46",
   "metadata": {},
   "outputs": [
    {
     "name": "stdout",
     "output_type": "stream",
     "text": [
      "Creating graph using `generic` coordinates and `None` transform and `1` libraries.\n",
      "Adding `adata.obsp['spatial_connectivities']`\n",
      "       `adata.obsp['spatial_distances']`\n",
      "       `adata.uns['spatial_neighbors']`\n",
      "Finish (0:00:00)\n",
      "Creating graph using `generic` coordinates and `None` transform and `1` libraries.\n",
      "Adding `adata.obsp['spatial_connectivities']`\n",
      "       `adata.obsp['spatial_distances']`\n",
      "       `adata.uns['spatial_neighbors']`\n",
      "Finish (0:00:00)\n",
      "Creating graph using `generic` coordinates and `None` transform and `1` libraries.\n",
      "Adding `adata.obsp['spatial_connectivities']`\n",
      "       `adata.obsp['spatial_distances']`\n",
      "       `adata.uns['spatial_neighbors']`\n",
      "Finish (0:00:00)\n",
      "Creating graph using `generic` coordinates and `None` transform and `1` libraries.\n",
      "Adding `adata.obsp['spatial_connectivities']`\n",
      "       `adata.obsp['spatial_distances']`\n",
      "       `adata.uns['spatial_neighbors']`\n",
      "Finish (0:00:00)\n",
      "Creating graph using `generic` coordinates and `None` transform and `1` libraries.\n",
      "Adding `adata.obsp['spatial_connectivities']`\n",
      "       `adata.obsp['spatial_distances']`\n",
      "       `adata.uns['spatial_neighbors']`\n",
      "Finish (0:00:00)\n",
      "Creating graph using `generic` coordinates and `None` transform and `1` libraries.\n",
      "Adding `adata.obsp['spatial_connectivities']`\n",
      "       `adata.obsp['spatial_distances']`\n",
      "       `adata.uns['spatial_neighbors']`\n",
      "Finish (0:00:00)\n"
     ]
    }
   ],
   "source": [
    "df=pd.DataFrame(index=adata.obs.cell_comm.cat.categories,columns=['SES'])\n",
    "for i in adata.obs.cell_comm.cat.categories:\n",
    "    adata_=adata[adata.obs.cell_comm==i].copy()\n",
    "    sq.gr.spatial_neighbors(adata_, n_neighs=20,coord_type=\"generic\")\n",
    "    adj=adata_.obsp['spatial_connectivities'].toarray()\n",
    "    df_=pd.DataFrame(index=adata_.obs.index,columns=adata_.obs.celltype.cat.categories)\n",
    "    for j in range(len(adj)):\n",
    "        tmp=adata_[adj[j].nonzero()]\n",
    "        df_tmp=tmp.obs.celltype.value_counts(normalize=True)\n",
    "        df_.iloc[j][df_tmp.index]=df_tmp\n",
    "    df_=df_.fillna(0)\n",
    "    df_ref=pd.DataFrame(adata_.obs.celltype.value_counts(normalize=True))\n",
    "    df_ref=df_ref.loc[df_.columns].copy()\n",
    "    df_cor=pd.DataFrame(cosine_similarity(df_,df_ref.transpose()),index=df_.index,columns=['SES'])\n",
    "    score=df_cor.mean().values[0]\n",
    "    df.loc[i,'SES']=score"
   ]
  },
  {
   "cell_type": "code",
   "execution_count": 8,
   "id": "ac381afc-7cb9-426d-90ba-52595efd904e",
   "metadata": {},
   "outputs": [
    {
     "name": "stderr",
     "output_type": "stream",
     "text": [
      "/home/liyuzhe/anaconda3/envs/scape/lib/python3.10/site-packages/anndata/__init__.py:51: FutureWarning: `anndata.read` is deprecated, use `anndata.read_h5ad` instead. `ad.read` will be removed in mid 2024.\n",
      "  warnings.warn(\n"
     ]
    },
    {
     "name": "stdout",
     "output_type": "stream",
     "text": [
      "Creating graph using `generic` coordinates and `None` transform and `1` libraries.\n",
      "Adding `adata.obsp['spatial_connectivities']`\n",
      "       `adata.obsp['spatial_distances']`\n",
      "       `adata.uns['spatial_neighbors']`\n",
      "Finish (0:00:02)\n"
     ]
    }
   ],
   "source": [
    "adata_=sc.read('/home/liyuzhe/Notebook/SPACE_rebuttal/NSCLC/NSCLC_cc_adata.h5ad')\n",
    "sq.gr.spatial_neighbors(adata_, n_neighs=20,coord_type=\"generic\")\n",
    "adj=adata_.obsp['spatial_connectivities'].toarray()\n",
    "df_=pd.DataFrame(index=adata_.obs.index,columns=adata_.obs.celltype.cat.categories)\n",
    "for j in range(len(adj)):\n",
    "    tmp=adata_[adj[j].nonzero()]\n",
    "    df_tmp=tmp.obs.celltype.value_counts(normalize=True)\n",
    "    df_.iloc[j][df_tmp.index]=df_tmp\n",
    "df_=df_.fillna(0)\n",
    "df_ref=pd.DataFrame(adata_.obs.celltype.value_counts(normalize=True))\n",
    "df_ref=df_ref.loc[df_.columns].copy()\n",
    "df_cor=pd.DataFrame(cosine_similarity(df_,df_ref.transpose()),index=df_.index,columns=['SES'])\n",
    "score=df_cor.mean().values[0]\n",
    "df.loc['all','SES']=score"
   ]
  },
  {
   "cell_type": "code",
   "execution_count": 9,
   "id": "1d5a74a2-5803-474c-894e-8cfe9698a48b",
   "metadata": {},
   "outputs": [
    {
     "data": {
      "text/html": [
       "<div>\n",
       "<style scoped>\n",
       "    .dataframe tbody tr th:only-of-type {\n",
       "        vertical-align: middle;\n",
       "    }\n",
       "\n",
       "    .dataframe tbody tr th {\n",
       "        vertical-align: top;\n",
       "    }\n",
       "\n",
       "    .dataframe thead th {\n",
       "        text-align: right;\n",
       "    }\n",
       "</style>\n",
       "<table border=\"1\" class=\"dataframe\">\n",
       "  <thead>\n",
       "    <tr style=\"text-align: right;\">\n",
       "      <th></th>\n",
       "      <th>index</th>\n",
       "      <th>SES</th>\n",
       "      <th>group</th>\n",
       "    </tr>\n",
       "  </thead>\n",
       "  <tbody>\n",
       "    <tr>\n",
       "      <th>0</th>\n",
       "      <td>CC1</td>\n",
       "      <td>0.757923</td>\n",
       "      <td>CC1</td>\n",
       "    </tr>\n",
       "    <tr>\n",
       "      <th>1</th>\n",
       "      <td>CC2</td>\n",
       "      <td>0.699268</td>\n",
       "      <td>CC2</td>\n",
       "    </tr>\n",
       "    <tr>\n",
       "      <th>2</th>\n",
       "      <td>CC3</td>\n",
       "      <td>0.780388</td>\n",
       "      <td>CC3</td>\n",
       "    </tr>\n",
       "    <tr>\n",
       "      <th>3</th>\n",
       "      <td>CC4</td>\n",
       "      <td>0.74057</td>\n",
       "      <td>CC4</td>\n",
       "    </tr>\n",
       "    <tr>\n",
       "      <th>4</th>\n",
       "      <td>CC5</td>\n",
       "      <td>0.964296</td>\n",
       "      <td>CC5</td>\n",
       "    </tr>\n",
       "    <tr>\n",
       "      <th>5</th>\n",
       "      <td>CC6</td>\n",
       "      <td>0.720561</td>\n",
       "      <td>CC6</td>\n",
       "    </tr>\n",
       "    <tr>\n",
       "      <th>6</th>\n",
       "      <td>all</td>\n",
       "      <td>0.543179</td>\n",
       "      <td>all</td>\n",
       "    </tr>\n",
       "  </tbody>\n",
       "</table>\n",
       "</div>"
      ],
      "text/plain": [
       "  index       SES group\n",
       "0   CC1  0.757923   CC1\n",
       "1   CC2  0.699268   CC2\n",
       "2   CC3  0.780388   CC3\n",
       "3   CC4   0.74057   CC4\n",
       "4   CC5  0.964296   CC5\n",
       "5   CC6  0.720561   CC6\n",
       "6   all  0.543179   all"
      ]
     },
     "execution_count": 9,
     "metadata": {},
     "output_type": "execute_result"
    }
   ],
   "source": [
    "df['group']=df.index.copy()\n",
    "df=df.reset_index()\n",
    "df"
   ]
  },
  {
   "cell_type": "code",
   "execution_count": 10,
   "id": "49ea0484-08fa-40dc-984f-a74ed9ea9f38",
   "metadata": {},
   "outputs": [],
   "source": [
    "df.to_csv('results/NSCLC_SES_uniform_score.csv')"
   ]
  },
  {
   "cell_type": "code",
   "execution_count": 11,
   "id": "4de10955-498a-4322-8e46-851ddee22264",
   "metadata": {},
   "outputs": [
    {
     "name": "stderr",
     "output_type": "stream",
     "text": [
      "webf NOT subset; don't know how to subset; dropped\n"
     ]
    },
    {
     "data": {
      "image/png": "[encoded data removed]",
      "text/plain": [
       "<Figure size 600x480 with 1 Axes>"
      ]
     },
     "metadata": {
      "image/png": {
       "height": 426,
       "width": 564
      }
     },
     "output_type": "display_data"
    }
   ],
   "source": [
    "plt.rcParams[\"axes.grid\"] = False\n",
    "plt.rcParams.update({'font.size': 12})\n",
    "plt.figure(figsize=(5,4))  \n",
    "\n",
    "sns.barplot(df,x='group',y='SES',width=0.75,\n",
    "            palette={'CC1': '#1f77b4','CC2': '#ff7f0e','CC3': '#279e68',\n",
    "                     'CC4': '#d62728','CC5': '#aa40fc','CC6': '#8c564b',\n",
    "                     'all':'grey'})\n",
    "ax=plt.gca()\n",
    "ax.set_ylabel('SES')\n",
    "ax.set_xlabel('')\n",
    "ax.spines['top'].set_visible(False)\n",
    "ax.spines['right'].set_visible(False)\n",
    "\n",
    "plt.savefig('figures/NSCLC_SES_uniform_score.pdf', bbox_inches = 'tight')\n",
    "plt.show()"
   ]
  },
  {
   "cell_type": "code",
   "execution_count": null,
   "id": "44ec04ee-7b7e-4bd3-94ad-aedef408e5a4",
   "metadata": {},
   "outputs": [],
   "source": []
  },
  {
   "cell_type": "code",
   "execution_count": null,
   "id": "c0837b8b-afe6-4550-8e1d-670d0be10b3d",
   "metadata": {},
   "outputs": [],
   "source": []
  }
 ],
 "metadata": {
  "kernelspec": {
   "display_name": "Python 3 (ipykernel)",
   "language": "python",
   "name": "python3"
  },
  "language_info": {
   "codemirror_mode": {
    "name": "ipython",
    "version": 3
   },
   "file_extension": ".py",
   "mimetype": "text/x-python",
   "name": "python",
   "nbconvert_exporter": "python",
   "pygments_lexer": "ipython3",
   "version": "3.10.12"
  }
 },
 "nbformat": 4,
 "nbformat_minor": 5
}
