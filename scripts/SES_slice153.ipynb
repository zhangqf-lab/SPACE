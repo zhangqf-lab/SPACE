{
 "cells": [
  {
   "cell_type": "code",
   "execution_count": 1,
   "id": "c302908a-67fa-4dcf-9107-3da26e533739",
   "metadata": {},
   "outputs": [],
   "source": [
    "import pandas as pd\n",
    "import numpy as np\n",
    "import scanpy as sc\n",
    "import squidpy as sq\n",
    "import space as sp\n",
    "import seaborn as sns\n",
    "import matplotlib.pyplot as plt\n",
    "import matplotlib.colors as clr\n",
    "\n",
    "from matplotlib.colors import LinearSegmentedColormap\n",
    "from matplotlib import cm\n",
    "from matplotlib import colors\n",
    "from termcolor import colored"
   ]
  },
  {
   "cell_type": "code",
   "execution_count": 2,
   "id": "1414f0b2-3928-4ceb-be4f-989f521e8a3a",
   "metadata": {},
   "outputs": [],
   "source": [
    "from sklearn.metrics.pairwise import pairwise_distances\n",
    "from sklearn.metrics.pairwise import cosine_similarity\n",
    "import scipy.stats as stats"
   ]
  },
  {
   "cell_type": "code",
   "execution_count": 3,
   "id": "4c14cf55-1e6f-4733-8dc5-8b223cc9ec93",
   "metadata": {},
   "outputs": [
    {
     "name": "stderr",
     "output_type": "stream",
     "text": [
      "2023-12-19 14:30:50.021732: I tensorflow/core/util/port.cc:110] oneDNN custom operations are on. You may see slightly different numerical results due to floating-point round-off errors from different computation orders. To turn them off, set the environment variable `TF_ENABLE_ONEDNN_OPTS=0`.\n",
      "2023-12-19 14:30:50.080388: I tensorflow/core/platform/cpu_feature_guard.cc:182] This TensorFlow binary is optimized to use available CPU instructions in performance-critical operations.\n",
      "To enable the following instructions: AVX2 AVX512F AVX512_VNNI FMA, in other operations, rebuild TensorFlow with the appropriate compiler flags.\n",
      "2023-12-19 14:30:50.943467: W tensorflow/compiler/tf2tensorrt/utils/py_utils.cc:38] TF-TRT Warning: Could not find TensorRT\n"
     ]
    },
    {
     "name": "stdout",
     "output_type": "stream",
     "text": [
      "scanpy==1.9.3 anndata==0.9.2 umap==0.5.5 numpy==1.23.5 scipy==1.8.1 pandas==1.5.0 scikit-learn==0.24.2 statsmodels==0.14.0 python-igraph==0.10.4 louvain==0.8.0 pynndescent==0.5.2\n"
     ]
    }
   ],
   "source": [
    "plt.rcParams['axes.unicode_minus']=False\n",
    "plt.rc('font', family='Helvetica')\n",
    "plt.rcParams['pdf.fonttype'] = 42\n",
    "sc.settings.verbosity = 3             # verbosity: errors (0), warnings (1), info (2), hints (3)\n",
    "sc.logging.print_header()\n",
    "sc.set_figure_params(dpi=120,facecolor='w',frameon=True,figsize=(4,4)) \n",
    "%config InlineBackend.figure_format='retina'\n",
    "%matplotlib inline"
   ]
  },
  {
   "cell_type": "code",
   "execution_count": 4,
   "id": "7f91b9b3-74ea-46bf-8195-cb63aff42030",
   "metadata": {},
   "outputs": [],
   "source": [
    "featurePlotCols=[\"lightgrey\",\"whitesmoke\",\"#ffffcc\",\"#ffeda0\",\"#fed976\",\"#feb24c\",\"#fd8d3c\",\"#fc4e2a\",\"#e31a1c\",\"#bd0026\",\"#800026\",\"#800026\"]\n",
    "mymap2 = colors.LinearSegmentedColormap.from_list('my_colormap',featurePlotCols,N=512)"
   ]
  },
  {
   "cell_type": "code",
   "execution_count": 5,
   "id": "fe8a90b5-8e7d-454a-a704-c4db734c95b6",
   "metadata": {},
   "outputs": [
    {
     "data": {
      "text/plain": [
       "'0.6.7'"
      ]
     },
     "execution_count": 5,
     "metadata": {},
     "output_type": "execute_result"
    }
   ],
   "source": [
    "sp.__version__"
   ]
  },
  {
   "cell_type": "markdown",
   "id": "0514913b-2021-4f3f-a231-d7d6f7fa9e7f",
   "metadata": {},
   "source": [
    "# SES index"
   ]
  },
  {
   "cell_type": "code",
   "execution_count": 6,
   "id": "93c0ffa0-73fd-4871-96f2-33dd39718989",
   "metadata": {},
   "outputs": [
    {
     "data": {
      "text/plain": [
       "AnnData object with n_obs × n_vars = 7409 × 254\n",
       "    obs: 'fovID', 'fov_x', 'fov_y', 'volume', 'center_x', 'center_y', 'slice_id', 'sample_id', 'BICCN_cluster_label', 'BICCN_subclass_label', 'BICCN_class_label', 'BICCN_ontology_term_id', 'assay_ontology_term_id', 'disease_ontology_term_id', 'tissue_ontology_term_id', 'cell_type_ontology_term_id', 'ethnicity_ontology_term_id', 'development_stage_ontology_term_id', 'sex_ontology_term_id', 'is_primary_data', 'organism_ontology_term_id', 'cell_type', 'assay', 'disease', 'organism', 'sex', 'tissue', 'ethnicity', 'development_stage', 'n_genes_by_counts', 'total_counts', 'total_counts_mt', 'pct_counts_mt', 'mouse', 'slice', 'dataset', 'sample', 'subclass', 'subclass_preprocessed', 'leiden_SPACE', 'louvain_SPACE', 'leiden_c8', 'leiden_c5', 'leiden_c0', 'leiden_c0-10-15', 'leiden_c7', 'leiden_c4', 'leiden_c1', 'leiden_c15', 'leiden_c27', 'leiden_c15-27', 'leiden_c23', 'leiden_inh', 'leiden_c0-2', 'celltype_SPACE', 'Cell_Communities_test', 'Cell_Communities', 'cell_comm'\n",
       "    var: 'feature_biotype', 'feature_is_filtered', 'feature_name', 'feature_reference', 'mt', 'n_cells_by_counts', 'mean_counts', 'pct_dropout_by_counts', 'total_counts'\n",
       "    uns: 'Cell_Communities_colors', 'Cell_Communities_test_colors', 'Exp', 'SPACE', 'X_normalization', 'cell_comm_colors', 'celltype_SPACE_colors', 'dendrogram_leiden_SPACE', 'dendrogram_leiden_c0-2', 'dendrogram_leiden_c23', 'dendrogram_leiden_inh', 'layer_descriptions', 'leiden', 'leiden_SPACE_colors', 'leiden_c0-10-15_colors', 'leiden_c0-2_colors', 'leiden_c0_colors', 'leiden_c15-27_colors', 'leiden_c15_colors', 'leiden_c1_colors', 'leiden_c27_colors', 'leiden_c4_colors', 'leiden_c5_colors', 'leiden_c7_colors', 'leiden_c8_colors', 'louvain', 'metadata', 'publication_doi', 'schema_version', 'subclass_preprocessed_colors', 'title', 'umap'\n",
       "    obsm: 'UmapExp', 'UmapSPACE', 'X_pca', 'X_umap', 'latent', 'spatial'\n",
       "    obsp: 'Exp_connectivities', 'Exp_distances', 'SPACE_connectivities', 'SPACE_distances'"
      ]
     },
     "execution_count": 6,
     "metadata": {},
     "output_type": "execute_result"
    }
   ],
   "source": [
    "adata=sc.read('/data1/liyuzhe/data/SPACE_revision/slice153-1_cc_adata.h5ad')\n",
    "adata"
   ]
  },
  {
   "cell_type": "code",
   "execution_count": 7,
   "id": "b0c91e4e-1d03-46f1-82c3-a64f2dd0961e",
   "metadata": {},
   "outputs": [
    {
     "name": "stdout",
     "output_type": "stream",
     "text": [
      "Creating graph using `generic` coordinates and `None` transform and `1` libraries.\n",
      "Adding `adata.obsp['spatial_connectivities']`\n",
      "       `adata.obsp['spatial_distances']`\n",
      "       `adata.uns['spatial_neighbors']`\n",
      "Finish (0:00:00)\n"
     ]
    }
   ],
   "source": [
    "sq.gr.spatial_neighbors(adata, n_neighs=20,coord_type=\"generic\")\n",
    "adj=adata.obsp['spatial_connectivities'].toarray()\n",
    "df=pd.DataFrame(index=adata.obs.index,columns=adata.obs.subclass_preprocessed.cat.categories)\n",
    "for i in range(len(adj)):\n",
    "    tmp=adata[adj[i].nonzero()]\n",
    "    df_tmp=tmp.obs.subclass_preprocessed.value_counts(normalize=False)\n",
    "    df.iloc[i][df_tmp.index]=df_tmp\n",
    "df=df.fillna(0)\n",
    "df_sum=df.sum(axis=1)\n",
    "df=df.div(df_sum,axis=0)"
   ]
  },
  {
   "cell_type": "markdown",
   "id": "b3257b6b-cafc-467c-a7d6-577fd2760e20",
   "metadata": {},
   "source": [
    "# Cosine similarity"
   ]
  },
  {
   "cell_type": "code",
   "execution_count": 8,
   "id": "a7f8608d-92f9-4fe0-bd8d-65a2642b9654",
   "metadata": {},
   "outputs": [],
   "source": [
    "meta=adata.obs.copy()"
   ]
  },
  {
   "cell_type": "code",
   "execution_count": 9,
   "id": "bac273f1-0576-4685-a4fb-4a94a7a9c2ee",
   "metadata": {},
   "outputs": [],
   "source": [
    "meta.Cell_Communities=meta.cell_comm.astype('category')"
   ]
  },
  {
   "cell_type": "code",
   "execution_count": 10,
   "id": "2edf6707-eece-45e4-8b4a-93f74dc40f09",
   "metadata": {},
   "outputs": [],
   "source": [
    "df_cor=pd.DataFrame(cosine_similarity(df),index=df.index,columns=df.index)"
   ]
  },
  {
   "cell_type": "code",
   "execution_count": 11,
   "id": "bbf6a390-7206-4ece-9362-cf23fad08062",
   "metadata": {},
   "outputs": [],
   "source": [
    "df1=pd.DataFrame(index=df_cor.index,columns=['corr','group1','group2']) # celltype:0 ; community:0\n",
    "df2=pd.DataFrame(index=df_cor.index,columns=['corr','group1','group2']) # celltype:0 ; community:1\n",
    "df3=pd.DataFrame(index=df_cor.index,columns=['corr','group1','group2']) # celltype:1 ; community:0\n",
    "df4=pd.DataFrame(index=df_cor.index,columns=['corr','group1','group2']) # celltype:1 ; community:1\n",
    "df1['group1']='g1'\n",
    "df2['group1']='g2'\n",
    "df3['group1']='g3'\n",
    "df4['group1']='g4'\n",
    "df1['group2']=df1.index.copy()\n",
    "df2['group2']=df2.index.copy()\n",
    "df3['group2']=df3.index.copy()\n",
    "df4['group2']=df4.index.copy()"
   ]
  },
  {
   "cell_type": "code",
   "execution_count": 12,
   "id": "0e0543c4-aa34-4a94-b89f-30ae6dd564d3",
   "metadata": {},
   "outputs": [],
   "source": [
    "for i in df.index:\n",
    "    cell_com=meta.loc[i,'Cell_Communities']\n",
    "    celltype=meta.loc[i,'subclass_preprocessed']\n",
    "    idx1=meta[(meta.Cell_Communities!=cell_com)&(meta.subclass_preprocessed!=celltype)].index.copy()\n",
    "    idx2=meta[(meta.Cell_Communities!=cell_com)&(meta.subclass_preprocessed==celltype)].index.copy()\n",
    "    idx3=meta[(meta.Cell_Communities==cell_com)&(meta.subclass_preprocessed!=celltype)].index.copy()\n",
    "    idx4=meta[(meta.Cell_Communities==cell_com)&(meta.subclass_preprocessed==celltype)].index.copy()\n",
    "    \n",
    "    if len(idx1)>0:\n",
    "        df1.loc[i,'corr']=(df_cor.loc[i,idx1].sum())/(len(idx1))\n",
    "    else:\n",
    "        break\n",
    "    \n",
    "    if len(idx2)>0:\n",
    "        df2.loc[i,'corr']=(df_cor.loc[i,idx2].sum())/(len(idx2))\n",
    "    else:\n",
    "        break\n",
    "   \n",
    "    if len(idx3)>0:\n",
    "        df3.loc[i,'corr']=(df_cor.loc[i,idx3].sum())/(len(idx3))\n",
    "    else:\n",
    "        break\n",
    "   \n",
    "    if len(idx4)>1:\n",
    "        df4.loc[i,'corr']=(df_cor.loc[i,idx4].sum()-1)/(len(idx4)-1)\n",
    "    else:\n",
    "        df4.loc[i,'corr']=1"
   ]
  },
  {
   "cell_type": "code",
   "execution_count": 13,
   "id": "275789f2-8e31-48de-9656-79dbaad03e39",
   "metadata": {},
   "outputs": [],
   "source": [
    "df1['cell_com']=meta['Cell_Communities'].copy()\n",
    "df2['cell_com']=meta['Cell_Communities'].copy()\n",
    "df3['cell_com']=meta['Cell_Communities'].copy()\n",
    "df4['cell_com']=meta['Cell_Communities'].copy()\n",
    "df1['celltype']=meta['subclass_preprocessed'].copy()\n",
    "df2['celltype']=meta['subclass_preprocessed'].copy()\n",
    "df3['celltype']=meta['subclass_preprocessed'].copy()\n",
    "df4['celltype']=meta['subclass_preprocessed'].copy()"
   ]
  },
  {
   "cell_type": "code",
   "execution_count": 14,
   "id": "601a0c23-b238-4135-9dd8-7f87d040d701",
   "metadata": {},
   "outputs": [],
   "source": [
    "df_all=pd.concat([df1,df2,df3,df4])"
   ]
  },
  {
   "cell_type": "code",
   "execution_count": 15,
   "id": "52bf3f88-09e2-4c58-a851-e02e26500dbc",
   "metadata": {},
   "outputs": [
    {
     "data": {
      "text/plain": [
       "<AxesSubplot:xlabel='group1', ylabel='corr'>"
      ]
     },
     "execution_count": 15,
     "metadata": {},
     "output_type": "execute_result"
    },
    {
     "data": {
      "image/png": "[encoded data removed]",
      "text/plain": [
       "<Figure size 480x480 with 1 Axes>"
      ]
     },
     "metadata": {
      "image/png": {
       "height": 451,
       "width": 471
      }
     },
     "output_type": "display_data"
    }
   ],
   "source": [
    "sns.boxplot(data=df_all, x=\"group1\", y=\"corr\")"
   ]
  },
  {
   "cell_type": "code",
   "execution_count": null,
   "id": "bbc431bb-f895-4ac4-a78f-a1f64e77dae9",
   "metadata": {},
   "outputs": [],
   "source": []
  }
 ],
 "metadata": {
  "kernelspec": {
   "display_name": "Python 3 (ipykernel)",
   "language": "python",
   "name": "python3"
  },
  "language_info": {
   "codemirror_mode": {
    "name": "ipython",
    "version": 3
   },
   "file_extension": ".py",
   "mimetype": "text/x-python",
   "name": "python",
   "nbconvert_exporter": "python",
   "pygments_lexer": "ipython3",
   "version": "3.8.5"
  }
 },
 "nbformat": 4,
 "nbformat_minor": 5
}
